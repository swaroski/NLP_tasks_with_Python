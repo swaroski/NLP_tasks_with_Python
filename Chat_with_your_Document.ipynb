{
 "cells": [
  {
   "cell_type": "markdown",
   "id": "34eda3dd",
   "metadata": {},
   "source": [
    "# Chat With Anything - From PDFs Files to Image Documents"
   ]
  },
  {
   "cell_type": "code",
   "execution_count": 1,
   "id": "e17452c7",
   "metadata": {},
   "outputs": [],
   "source": [
    "import warnings\n",
    "warnings.filterwarnings('ignore')"
   ]
  },
  {
   "cell_type": "code",
   "execution_count": 14,
   "id": "ca49bf6f",
   "metadata": {},
   "outputs": [
    {
     "name": "stdout",
     "output_type": "stream",
     "text": [
      "['D:\\\\workspace\\\\NLP_tasks', 'C:\\\\Users\\\\bhise\\\\new_project\\\\library', 'D:\\\\workspace\\\\NLP_tasks', 'C:\\\\Users\\\\bhise\\\\anaconda3\\\\python310.zip', 'C:\\\\Users\\\\bhise\\\\anaconda3\\\\DLLs', 'C:\\\\Users\\\\bhise\\\\anaconda3\\\\lib', 'C:\\\\Users\\\\bhise\\\\anaconda3', '', 'C:\\\\Users\\\\bhise\\\\AppData\\\\Roaming\\\\Python\\\\Python310\\\\site-packages', 'C:\\\\Users\\\\bhise\\\\anaconda3\\\\lib\\\\site-packages', 'C:\\\\Users\\\\bhise\\\\anaconda3\\\\lib\\\\site-packages\\\\win32', 'C:\\\\Users\\\\bhise\\\\anaconda3\\\\lib\\\\site-packages\\\\win32\\\\lib', 'C:\\\\Users\\\\bhise\\\\anaconda3\\\\lib\\\\site-packages\\\\Pythonwin']\n"
     ]
    }
   ],
   "source": [
    "import sys\n",
    "print(sys.path)\n",
    "path = \"\\\\anaconda3\\\\Lib\\\\site-packages\\\\\"\n",
    "sys.path.append(path)"
   ]
  },
  {
   "cell_type": "code",
   "execution_count": 2,
   "id": "6293b74c",
   "metadata": {},
   "outputs": [],
   "source": [
    "%%bash \n",
    "\n",
    "pip -q install langchain==0.0.251\n",
    "pip -q install openai tiktoken\n",
    "pip -q install pytesseract pypdf"
   ]
  },
  {
   "cell_type": "markdown",
   "id": "184c13b5",
   "metadata": {},
   "source": [
    "### Chat & Query your PDF files\n",
    "- Detect Document Type"
   ]
  },
  {
   "cell_type": "code",
   "execution_count": 4,
   "id": "c52ec13d",
   "metadata": {},
   "outputs": [
    {
     "name": "stdout",
     "output_type": "stream",
     "text": [
      "Collecting filetype\n",
      "  Downloading filetype-1.2.0-py2.py3-none-any.whl (19 kB)\n",
      "Installing collected packages: filetype\n",
      "Successfully installed filetype-1.2.0\n"
     ]
    },
    {
     "name": "stderr",
     "output_type": "stream",
     "text": [
      "WARNING: Ignoring invalid distribution -rotobuf (c:\\users\\bhise\\anaconda3\\lib\\site-packages)\n",
      "WARNING: Ignoring invalid distribution -rotobuf (c:\\users\\bhise\\anaconda3\\lib\\site-packages)\n",
      "WARNING: Ignoring invalid distribution -rotobuf (c:\\users\\bhise\\anaconda3\\lib\\site-packages)\n",
      "WARNING: Ignoring invalid distribution -rotobuf (c:\\users\\bhise\\anaconda3\\lib\\site-packages)\n",
      "WARNING: Ignoring invalid distribution -rotobuf (c:\\users\\bhise\\anaconda3\\lib\\site-packages)\n",
      "WARNING: Ignoring invalid distribution -rotobuf (c:\\users\\bhise\\anaconda3\\lib\\site-packages)\n",
      "WARNING: Ignoring invalid distribution -rotobuf (c:\\users\\bhise\\anaconda3\\lib\\site-packages)\n"
     ]
    }
   ],
   "source": [
    "\n",
    "!pip install filetype\n",
    "from filetype import guess\n",
    "\n",
    "def detect_document_type(document_path):\n",
    "    \n",
    "    guess_file = guess(document_path)\n",
    "    file_type = \"\"\n",
    "    image_types = ['jpg', 'jpeg', 'png', 'gif']\n",
    "    \n",
    "    if(guess_file.extension.lower() == \"pdf\"):\n",
    "        file_type = \"pdf\"\n",
    "        \n",
    "    elif(guess_file.extension.lower() in image_types):\n",
    "        file_type = \"image\"\n",
    "        \n",
    "    else:\n",
    "        file_type = \"unkown\"\n",
    "        \n",
    "    return file_type"
   ]
  },
  {
   "cell_type": "code",
   "execution_count": 6,
   "id": "4356c9c6",
   "metadata": {},
   "outputs": [
    {
     "name": "stdout",
     "output_type": "stream",
     "text": [
      "Research Paper Type: pdf\n",
      "Article Information Document Type: image\n"
     ]
    }
   ],
   "source": [
    "research_paper_path = \".\\\\workspace\\\\NLP_tasks\\\\NLP_tasks_with_Python\\\\data\\\\bert_research-paper.pdf\"\n",
    "article_information_path = \"..\\\\workspace\\\\NLP_tasks\\\\NLP_tasks_with_Python\\\\data\\\\saruman.png\"\n",
    "\n",
    "print(f\"Research Paper Type: {detect_document_type(research_paper_path)}\")\n",
    "print(f\"Article Information Document Type: {detect_document_type(article_information_path)}\")"
   ]
  },
  {
   "cell_type": "markdown",
   "id": "dd7a8326",
   "metadata": {},
   "source": [
    "### Extract Documents Content"
   ]
  },
  {
   "cell_type": "code",
   "execution_count": 8,
   "id": "7d0acf4d",
   "metadata": {},
   "outputs": [],
   "source": [
    "from langchain.document_loaders.image import UnstructuredImageLoader\n",
    "from langchain.document_loaders import UnstructuredFileLoader\n",
    "\n",
    "\n",
    "def extract_file_content(file_path):\n",
    "    \n",
    "    file_type = detect_document_type(file_path)\n",
    "    \n",
    "    if(file_type == \"pdf\"):\n",
    "        loader = UnstructuredFileLoader(file_path)\n",
    "        \n",
    "    elif(file_type == \"image\"):\n",
    "        loader = UnstructuredImageLoader(file_path)\n",
    "        \n",
    "    documents = loader.load()\n",
    "    documents_content = '\\n'.join(doc.page_content for doc in documents)\n",
    "    \n",
    "    return documents_content"
   ]
  },
  {
   "cell_type": "code",
   "execution_count": 34,
   "id": "efd3d2ee",
   "metadata": {},
   "outputs": [],
   "source": [
    "path = \"..\\\\anaconda3\\\\Lib\\\\site-packages\\\\pytesseract\\\\\"\n",
    "\n",
    "path1 = \"..\\\\Program Files\\\\Tesseract-OCR\\\\\" \n",
    "    \n",
    "sys.path.append(path)\n",
    "sys.path.append(path1)\n",
    "pytesseract.pytesseract.tesseract_cmd = \"\\\\Program Files\\\\Tesseract-OCR\\\\tesseract.exe\""
   ]
  },
  {
   "cell_type": "code",
   "execution_count": 35,
   "id": "4a597c3d",
   "metadata": {},
   "outputs": [],
   "source": [
    "research_paper_content = extract_file_content(research_paper_path)\n",
    "article_information_content = extract_file_content(article_information_path)"
   ]
  },
  {
   "cell_type": "code",
   "execution_count": 36,
   "id": "84fe0ba9",
   "metadata": {},
   "outputs": [
    {
     "data": {
      "text/plain": [
       "'BERT: Pre-training of Deep Bidirectional Transformers for Language Understanding\\n\\nJacob Devlin Ming-Wei Chang Kenton Lee Kristina Toutanova Google AI Language {jacobdevlin,mingweichang,kentonl,kristout}@google.com\\n\\nAbstract\\n\\nThere are two existing strategies for apply- ing pre-trained language representations to down- stream tasks: feature-based and ﬁne-tuning. The feature-based approach, such as ELMo (Peters et al., 2018a), uses task-speciﬁc architectures that include the pre-trained representations as addi- tional features. The ﬁne-tuning approach, such as the Generative Pre-trained Transformer (OpenAI GPT) (Radford et al., 2018), introduces minimal task-speciﬁc parameters, and is trained on the downstream tasks by simply ﬁne-tuning all pre- trained parameters. The two approaches share the same objective function during pre-training, where they use unidirectional language models to learn general language representations.\\n\\nWe introduce a new language representa- tion model called BERT, which stands for Bidirectional Encoder Representations from Transformers. Unlike recent language repre- sentation models (Peters et al., 2018a; Rad- ford et al., 2018), BERT is designed to pre- train deep bidirectional representations from unlabeled text by jointly conditioning on both left and right context in all layers. As a re- sult, the pre-trained BERT model can be ﬁne- tuned with just one additional output layer to create state-of-the-art models for a wide range of tasks, such as question answering and language inference, without substantial task- speciﬁc architecture modiﬁcations.\\n\\n9 1 0 2\\n\\ny a M 4 2\\n\\n] L C . s c [\\n\\nWe argue that current techniques restrict the power of the pre-trained representations, espe- cially for the ﬁne-tuning approaches. The ma- jor limitation is that standard language models are unidirectional, and this limits the choice of archi- tectures that can be used during pre-training. For example, in OpenAI GPT, the authors use a left-to- right architecture, where every token can only at- tend to previous tokens in the self-attention layers of the Transformer (Vaswani et al., 2017). Such re- strictions are sub-optimal for sentence-level tasks, and could be very harmful when applying ﬁne- tuning based approaches to token-level tasks such as question answering, where it is crucial to incor- porate context from both directions.\\n\\nBERT is conceptually simple and empirically powerful. It obtains new state-of-the-art re- sults on eleven natural language processing tasks, including pushing the GLUE score to 80.5% (7.7% point absolute improvement), MultiNLI accuracy to 86.7% (4.6% absolute improvement), SQuAD v1.1 question answer- ing Test F1 to 93.2 (1.5 point absolute im- provement) and SQuAD v2.0 Test F1 to 83.1 (5.1 point absolute improvement).\\n\\n2 v 5 0 8 4 0 . 0 1 8 1 : v i X r a\\n\\n1\\n\\nIntroduction\\n\\nLanguage model pre-training has been shown to be effective for improving many natural language processing tasks (Dai and Le, 2015; Peters et al., 2018a; Radford et al., 2018; Howard and Ruder, 2018). These include sentence-level tasks such as natural language inference (Bowman et al., 2015; Williams et al., 2018) and paraphrasing (Dolan and Brockett, 2005), which aim to predict the re- lationships between sentences by analyzing them holistically, as well as token-level tasks such as named entity recognition and question answering, where models are required to produce ﬁne-grained output at the token level (Tjong Kim Sang and De Meulder, 2003; Rajpurkar et al., 2016).\\n\\nIn this paper, we improve the ﬁne-tuning based approaches by proposing BERT: Bidirectional Encoder Representations from Transformers. BERT alleviates the previously mentioned unidi- rectionality constraint by using a “masked lan- guage model” (MLM) pre-training objective, in- spired by the Cloze task (Taylor, 1953). The masked language model randomly masks some of the tokens from the input, and the objective is to predict the original vocabulary id of the masked\\n\\nThese approaches have been generalized to coarser granularities, such as sentence embed- dings (Kiros et al., 2015; Logeswaran and Lee, 2018) or paragraph embeddings (Le and Mikolov, 2014). To train sentence representations, prior work has used objectives to rank candidate next sentences (Jernite et al., 2017; Logeswaran and Lee, 2018), left-to-right generation of next sen- tence words given a representation of the previous sentence (Kiros et al., 2015), or denoising auto- encoder derived objectives (Hill et al., 2016).\\n\\nword based only on its context. Unlike left-to- right language model pre-training, the MLM ob- jective enables the representation to fuse the left and the right context, which allows us to pre- In addi- train a deep bidirectional Transformer. tion to the masked language model, we also use a “next sentence prediction” task that jointly pre- trains text-pair representations. The contributions of our paper are as follows:\\n\\nWe demonstrate the importance of bidirectional pre-training for language representations. Un- like Radford et al. (2018), which uses unidirec- tional language models for pre-training, BERT uses masked language models to enable pre- trained deep bidirectional representations. This is also in contrast to Peters et al. (2018a), which uses a shallow concatenation of independently trained left-to-right and right-to-left LMs.\\n\\nELMo and its predecessor (Peters et al., 2017, 2018a) generalize traditional word embedding re- search along a different dimension. They extract context-sensitive features from a left-to-right and a right-to-left language model. The contextual rep- resentation of each token is the concatenation of the left-to-right and right-to-left representations. When integrating contextual word embeddings with existing task-speciﬁc architectures, ELMo advances the state of the art for several major NLP benchmarks (Peters et al., 2018a) including ques- tion answering (Rajpurkar et al., 2016), sentiment analysis (Socher et al., 2013), and named entity recognition (Tjong Kim Sang and De Meulder, 2003). Melamud et al. (2016) proposed learning contextual representations through a task to pre- dict a single word from both left and right context using LSTMs. Similar to ELMo, their model is feature-based and not deeply bidirectional. Fedus et al. (2018) shows that the cloze task can be used to improve the robustness of text generation mod- els.\\n\\nWe show that pre-trained representations reduce the need for many heavily-engineered task- speciﬁc architectures. BERT is the ﬁrst ﬁne- tuning based representation model that achieves state-of-the-art performance on a large suite of sentence-level and token-level tasks, outper- forming many task-speciﬁc architectures.\\n\\nBERT advances the state of the art for eleven NLP tasks. The code and pre-trained mod- els are available at https://github.com/ google-research/bert.\\n\\n2 Related Work\\n\\nThere is a long history of pre-training general lan- guage representations, and we brieﬂy review the most widely-used approaches in this section.\\n\\n2.2 Unsupervised Fine-tuning Approaches\\n\\nAs with the feature-based approaches, the ﬁrst works in this direction only pre-trained word em- (Col- bedding parameters from unlabeled text lobert and Weston, 2008).\\n\\n2.1 Unsupervised Feature-based Approaches\\n\\nLearning widely applicable representations of words has been an active area of research for decades, including non-neural (Brown et al., 1992; Ando and Zhang, 2005; Blitzer et al., 2006) and neural (Mikolov et al., 2013; Pennington et al., 2014) methods. Pre-trained word embeddings are an integral part of modern NLP systems, of- fering signiﬁcant improvements over embeddings learned from scratch (Turian et al., 2010). To pre- train word embedding vectors, left-to-right lan- guage modeling objectives have been used (Mnih and Hinton, 2009), as well as objectives to dis- criminate correct from incorrect words in left and right context (Mikolov et al., 2013).\\n\\nMore recently, sentence or document encoders which produce contextual token representations have been pre-trained from unlabeled text and ﬁne-tuned for a supervised downstream task (Dai and Le, 2015; Howard and Ruder, 2018; Radford et al., 2018). The advantage of these approaches is that few parameters need to be learned from scratch. At least partly due to this advantage, OpenAI GPT (Radford et al., 2018) achieved pre- viously state-of-the-art results on many sentence- level tasks from the GLUE benchmark (Wang language model- Left-to-right et al., 2018a).\\n\\nMasked Sentence B\\n\\nE[SEP]\\n\\nE[SEP]\\n\\nT[SEP]\\n\\nT[SEP]\\n\\nT1\\n\\nT1\\n\\nE1\\n\\nE1\\n\\nQuestion\\n\\nSQuAD\\n\\nPre-training\\n\\nTok 1\\n\\nTok 1\\n\\nTok 1\\n\\nTok 1\\n\\nTN\\n\\nTN\\n\\nTM’\\n\\nTM’\\n\\nFine-Tuning\\n\\nEN\\n\\nEN\\n\\nC\\n\\nC\\n\\nE1’\\n\\nE1’\\n\\nQuestion Answer Pair\\n\\nUnlabeled Sentence A and B Pair\\n\\nNER\\n\\nEM’\\n\\nEM’\\n\\n...\\n\\n...\\n\\n...\\n\\n...\\n\\n...\\n\\n...\\n\\n...\\n\\n...\\n\\n...\\n\\n...\\n\\n...\\n\\n...\\n\\nMask LM\\n\\nMask LM\\n\\n[CLS]\\n\\n[CLS]\\n\\nMasked Sentence A\\n\\nTok N\\n\\nTok N\\n\\nParagraph\\n\\nStart/End Span\\n\\nTokM\\n\\nTokM\\n\\nE[CLS]\\n\\nE[CLS]\\n\\nNSP\\n\\n[SEP]\\n\\n[SEP]\\n\\nT1’\\n\\nT1’\\n\\nBERT\\n\\nBERT\\n\\nBERT\\n\\nMNLI\\n\\nFigure 1: Overall pre-training and ﬁne-tuning procedures for BERT. Apart from output layers, the same architec- tures are used in both pre-training and ﬁne-tuning. The same pre-trained model parameters are used to initialize models for different down-stream tasks. During ﬁne-tuning, all parameters are ﬁne-tuned. [CLS] is a special symbol added in front of every input example, and [SEP] is a special separator token (e.g. separating ques- tions/answers).\\n\\nmal difference between the pre-trained architec- ture and the ﬁnal downstream architecture.\\n\\ning and auto-encoder objectives have been used for pre-training such models (Howard and Ruder, 2018; Radford et al., 2018; Dai and Le, 2015).\\n\\nModel Architecture BERT’s model architec- ture is a multi-layer bidirectional Transformer en- coder based on the original implementation de- scribed in Vaswani et al. (2017) and released in the tensor2tensor library.1 Because the use of Transformers has become common and our im- plementation is almost identical to the original, we will omit an exhaustive background descrip- tion of the model architecture and refer readers to Vaswani et al. (2017) as well as excellent guides such as “The Annotated Transformer.”2\\n\\n2.3 Transfer Learning from Supervised Data\\n\\nThere has also been work showing effective trans- fer from supervised tasks with large datasets, such as natural language inference (Conneau et al., 2017) and machine translation (McCann et al., 2017). Computer vision research has also demon- strated the importance of transfer learning from large pre-trained models, where an effective recipe is to ﬁne-tune models pre-trained with Ima- geNet (Deng et al., 2009; Yosinski et al., 2014).\\n\\nIn this work, we denote the number of layers (i.e., Transformer blocks) as L, the hidden size as H, and the number of self-attention heads as A.3 We primarily report results on two model sizes: BERTBASE (L=12, H=768, A=12, Total Param- eters=110M) and BERTLARGE (L=24, H=1024, A=16, Total Parameters=340M).\\n\\n3 BERT\\n\\nWe introduce BERT and its detailed implementa- tion in this section. There are two steps in our framework: pre-training and ﬁne-tuning. Dur- ing pre-training, the model is trained on unlabeled data over different pre-training tasks. For ﬁne- tuning, the BERT model is ﬁrst initialized with the pre-trained parameters, and all of the param- eters are ﬁne-tuned using labeled data from the downstream tasks. Each downstream task has sep- arate ﬁne-tuned models, even though they are ini- tialized with the same pre-trained parameters. The question-answering example in Figure 1 will serve as a running example for this section.\\n\\nBERTBASE was chosen to have the same model size as OpenAI GPT for comparison purposes. Critically, however, the BERT Transformer uses bidirectional self-attention, while the GPT Trans- former uses constrained self-attention where every token can only attend to context to its left.4\\n\\n1https://github.com/tensorﬂow/tensor2tensor 2http://nlp.seas.harvard.edu/2018/04/03/attention.html 3In all cases we set the feed-forward/ﬁlter size to be 4H,\\n\\nA distinctive feature of BERT is its uniﬁed ar- chitecture across different tasks. There is mini-\\n\\ni.e., 3072 for the H = 768 and 4096 for the H = 1024.\\n\\n4We note that in the literature the bidirectional Trans-\\n\\nInput/Output Representations To make BERT handle a variety of down-stream tasks, our input representation is able to unambiguously represent both a single sentence and a pair of sentences (e.g., (cid:104) Question, Answer (cid:105)) in one token sequence. Throughout this work, a “sentence” can be an arbi- trary span of contiguous text, rather than an actual linguistic sentence. A “sequence” refers to the in- put token sequence to BERT, which may be a sin- gle sentence or two sentences packed together.\\n\\nIn order to train a deep bidirectional representa- tion, we simply mask some percentage of the input tokens at random, and then predict those masked tokens. We refer to this procedure as a “masked LM” (MLM), although it is often referred to as a Cloze task in the literature (Taylor, 1953). In this case, the ﬁnal hidden vectors corresponding to the mask tokens are fed into an output softmax over the vocabulary, as in a standard LM. In all of our experiments, we mask 15% of all WordPiece to- kens in each sequence at random. In contrast to denoising auto-encoders (Vincent et al., 2008), we only predict the masked words rather than recon- structing the entire input.\\n\\nWe use WordPiece embeddings (Wu et al., 2016) with a 30,000 token vocabulary. The ﬁrst token of every sequence is always a special clas- siﬁcation token ([CLS]). The ﬁnal hidden state corresponding to this token is used as the ag- gregate sequence representation for classiﬁcation tasks. Sentence pairs are packed together into a single sequence. We differentiate the sentences in two ways. First, we separate them with a special token ([SEP]). Second, we add a learned embed- ding to every token indicating whether it belongs to sentence A or sentence B. As shown in Figure 1, we denote input embedding as E, the ﬁnal hidden vector of the special [CLS] token as C ∈ RH , and the ﬁnal hidden vector for the ith input token as Ti ∈ RH .\\n\\nAlthough this allows us to obtain a bidirec- tional pre-trained model, a downside is that we are creating a mismatch between pre-training and ﬁne-tuning, since the [MASK] token does not ap- pear during ﬁne-tuning. To mitigate this, we do not always replace “masked” words with the ac- tual [MASK] token. The training data generator chooses 15% of the token positions at random for prediction. If the i-th token is chosen, we replace the i-th token with (1) the [MASK] token 80% of the time (2) a random token 10% of the time (3) the unchanged i-th token 10% of the time. Then, Ti will be used to predict the original token with cross entropy loss. We compare variations of this procedure in Appendix C.2.\\n\\nFor a given token, its input representation is constructed by summing the corresponding token, segment, and position embeddings. A visualiza- tion of this construction can be seen in Figure 2.\\n\\nTask #2: Next Sentence Prediction (NSP) Many important downstream tasks such as Ques- tion Answering (QA) and Natural Language Infer- ence (NLI) are based on understanding the rela- tionship between two sentences, which is not di- rectly captured by language modeling. In order to train a model that understands sentence rela- tionships, we pre-train for a binarized next sen- tence prediction task that can be trivially gener- ated from any monolingual corpus. Speciﬁcally, when choosing the sentences A and B for each pre- training example, 50% of the time B is the actual next sentence that follows A (labeled as IsNext), and 50% of the time it is a random sentence from the corpus (labeled as NotNext). As we show in Figure 1, C is used for next sentence predic- tion (NSP).5 Despite its simplicity, we demon- strate in Section 5.1 that pre-training towards this task is very beneﬁcial to both QA and NLI. 6\\n\\n3.1 Pre-training BERT\\n\\nUnlike Peters et al. (2018a) and Radford et al. (2018), we do not use traditional left-to-right or right-to-left language models to pre-train BERT. Instead, we pre-train BERT using two unsuper- vised tasks, described in this section. This step is presented in the left part of Figure 1.\\n\\nTask #1: Masked LM Intuitively, it is reason- able to believe that a deep bidirectional model is strictly more powerful than either a left-to-right model or the shallow concatenation of a left-to- right and a right-to-left model. Unfortunately, standard conditional language models can only be trained left-to-right or right-to-left, since bidirec- tional conditioning would allow each word to in- directly “see itself”, and the model could trivially predict the target word in a multi-layered context.\\n\\n5The ﬁnal model achieves 97%-98% accuracy on NSP. 6The vector C is not a meaningful sentence representation\\n\\nformer is often referred to as a “Transformer encoder” while the left-context-only version is referred to as a “Transformer decoder” since it can be used for text generation.\\n\\nwithout ﬁne-tuning, since it was trained with NSP.\\n\\nE0\\n\\nmy\\n\\nE[SEP]\\n\\nE[SEP]\\n\\ncute\\n\\nE3\\n\\nE##ing\\n\\nEplay\\n\\nE9\\n\\nE1\\n\\nEis\\n\\nE10\\n\\nInput\\n\\nhe\\n\\nSegmentEmbeddings\\n\\nElikes\\n\\nEhe\\n\\nE2\\n\\nEdog\\n\\nEcute\\n\\nEmy\\n\\nTokenEmbeddings\\n\\nE7\\n\\n##ing\\n\\nE8\\n\\nplay\\n\\nE6\\n\\nlikes\\n\\n[CLS]\\n\\nE[CLS]\\n\\ndog\\n\\nEB\\n\\nEB\\n\\nEB\\n\\nEB\\n\\nEB\\n\\n[SEP]\\n\\n[SEP]\\n\\nE4\\n\\nE5\\n\\nis\\n\\nEA\\n\\nEA\\n\\nEA\\n\\nEA\\n\\nEA\\n\\nEA\\n\\nPositionEmbeddings\\n\\nFigure 2: BERT input representation. The input embeddings are the sum of the token embeddings, the segmenta- tion embeddings and the position embeddings.\\n\\n(4) a degenerate text-∅ pair in text classiﬁcation or sequence tagging. At the output, the token rep- resentations are fed into an output layer for token- level tasks, such as sequence tagging or question answering, and the [CLS] representation is fed into an output layer for classiﬁcation, such as en- tailment or sentiment analysis.\\n\\nThe NSP task is closely related to representation- learning objectives used in Jernite et al. (2017) and Logeswaran and Lee (2018). However, in prior work, only sentence embeddings are transferred to down-stream tasks, where BERT transfers all pa- rameters to initialize end-task model parameters.\\n\\nPre-training data The pre-training procedure largely follows the existing literature on language model pre-training. For the pre-training corpus we use the BooksCorpus (800M words) (Zhu et al., 2015) and English Wikipedia (2,500M words). For Wikipedia we extract only the text passages and ignore lists, tables, and headers. It is criti- cal to use a document-level corpus rather than a shufﬂed sentence-level corpus such as the Billion Word Benchmark (Chelba et al., 2013) in order to extract long contiguous sequences.\\n\\nCompared to pre-training, ﬁne-tuning is rela- tively inexpensive. All of the results in the pa- per can be replicated in at most 1 hour on a sin- gle Cloud TPU, or a few hours on a GPU, starting from the exact same pre-trained model.7 We de- scribe the task-speciﬁc details in the correspond- ing subsections of Section 4. More details can be found in Appendix A.5.\\n\\n4 Experiments\\n\\nIn this section, we present BERT ﬁne-tuning re- sults on 11 NLP tasks.\\n\\n3.2 Fine-tuning BERT\\n\\nFine-tuning is straightforward since the self- attention mechanism in the Transformer al- lows BERT to model many downstream tasks— whether they involve single text or text pairs—by swapping out the appropriate inputs and outputs. For applications involving text pairs, a common pattern is to independently encode text pairs be- fore applying bidirectional cross attention, such as Parikh et al. (2016); Seo et al. (2017). BERT instead uses the self-attention mechanism to unify these two stages, as encoding a concatenated text pair with self-attention effectively includes bidi- rectional cross attention between two sentences.\\n\\n4.1 GLUE\\n\\nThe General Language Understanding Evaluation (GLUE) benchmark (Wang et al., 2018a) is a col- lection of diverse natural language understanding tasks. Detailed descriptions of GLUE datasets are included in Appendix B.1.\\n\\nTo ﬁne-tune on GLUE, we represent the input sequence (for single sentence or sentence pairs) as described in Section 3, and use the ﬁnal hid- den vector C ∈ RH corresponding to the ﬁrst input token ([CLS]) as the aggregate representa- tion. The only new parameters introduced during ﬁne-tuning are classiﬁcation layer weights W ∈ RK×H , where K is the number of labels. We com- pute a standard classiﬁcation loss with C and W , i.e., log(softmax(CW T )).\\n\\nFor each task, we simply plug in the task- speciﬁc inputs and outputs into BERT and ﬁne- tune all the parameters end-to-end. At the in- put, sentence A and sentence B from pre-training are analogous to (1) sentence pairs in paraphras- ing, (2) hypothesis-premise pairs in entailment, (3) question-passage pairs in question answering, and\\n\\n7For example, the BERT SQuAD model can be trained in around 30 minutes on a single Cloud TPU to achieve a Dev F1 score of 91.0%.\\n\\n8See (10) in https://gluebenchmark.com/faq.\\n\\nAverage - 74.0 71.0 75.1 79.6 82.1\\n\\nSystem\\n\\nMNLI-(m/mm) 392k 80.6/80.1 76.4/76.1 82.1/81.4 84.6/83.4 86.7/85.9\\n\\nQQP 363k 66.1 64.8 70.3 71.2 72.1\\n\\nQNLI 108k 82.3 79.8 87.4 90.5 92.7\\n\\nSST-2 67k 93.2 90.4 91.3 93.5 94.9\\n\\nCoLA 8.5k 35.0 36.0 45.4 52.1 60.5\\n\\nSTS-B MRPC 5.7k 81.0 73.3 80.0 85.8 86.5\\n\\nRTE 2.5k 61.7 56.8 56.0 66.4 70.1\\n\\n3.5k 86.0 84.9 82.3 88.9 89.3\\n\\nPre-OpenAI SOTA BiLSTM+ELMo+Attn OpenAI GPT BERTBASE BERTLARGE\\n\\nTable 1: GLUE Test results, scored by the evaluation server (https://gluebenchmark.com/leaderboard). The number below each task denotes the number of training examples. The “Average” column is slightly different than the ofﬁcial GLUE score, since we exclude the problematic WNLI set.8 BERT and OpenAI GPT are single- model, single task. F1 scores are reported for QQP and MRPC, Spearman correlations are reported for STS-B, and accuracy scores are reported for the other tasks. We exclude entries that use BERT as one of their components.\\n\\nWikipedia containing the answer, the task is to predict the answer text span in the passage.\\n\\nWe use a batch size of 32 and ﬁne-tune for 3 epochs over the data for all GLUE tasks. For each task, we selected the best ﬁne-tuning learning rate (among 5e-5, 4e-5, 3e-5, and 2e-5) on the Dev set. Additionally, for BERTLARGE we found that ﬁne- tuning was sometimes unstable on small datasets, so we ran several random restarts and selected the best model on the Dev set. With random restarts, we use the same pre-trained checkpoint but per- form different ﬁne-tuning data shufﬂing and clas- siﬁer layer initialization.9\\n\\nAs shown in Figure 1, in the question answer- ing task, we represent the input question and pas- sage as a single packed sequence, with the ques- tion using the A embedding and the passage using the B embedding. We only introduce a start vec- tor S ∈ RH and an end vector E ∈ RH during ﬁne-tuning. The probability of word i being the start of the answer span is computed as a dot prod- uct between Ti and S followed by a softmax over all of the words in the paragraph: Pi = eS·Ti j eS·Tj . The analogous formula is used for the end of the answer span. The score of a candidate span from position i to position j is deﬁned as S·Ti + E·Tj, and the maximum scoring span where j ≥ i is used as a prediction. The training objective is the sum of the log-likelihoods of the correct start and end positions. We ﬁne-tune for 3 epochs with a learning rate of 5e-5 and a batch size of 32.\\n\\nBoth BERTBASE and BERTLARGE outperform all sys- tems on all tasks by a substantial margin, obtaining 4.5% and 7.0% respective average accuracy im- provement over the prior state of the art. Note that BERTBASE and OpenAI GPT are nearly identical in terms of model architecture apart from the at- tention masking. For the largest and most widely reported GLUE task, MNLI, BERT obtains a 4.6% absolute accuracy improvement. On the ofﬁcial GLUE leaderboard10, BERTLARGE obtains a score of 80.5, compared to OpenAI GPT, which obtains 72.8 as of the date of writing.\\n\\nResults are presented in Table 1.\\n\\n(cid:80)\\n\\nTable 2 shows top leaderboard entries as well as results from top published systems (Seo et al., 2017; Clark and Gardner, 2018; Peters et al., 2018a; Hu et al., 2018). The top results from the SQuAD leaderboard do not have up-to-date public system descriptions available,11 and are allowed to use any public data when training their systems. We therefore use modest data augmentation in our system by ﬁrst ﬁne-tuning on TriviaQA (Joshi et al., 2017) befor ﬁne-tuning on SQuAD.\\n\\nWe ﬁnd that BERTLARGE signiﬁcantly outper- forms BERTBASE across all tasks, especially those with very little training data. The effect of model size is explored more thoroughly in Section 5.2.\\n\\n4.2 SQuAD v1.1\\n\\nThe Stanford Question Answering Dataset (SQuAD v1.1) is a collection of 100k crowd- sourced question/answer pairs (Rajpurkar et al., 2016). Given a question and a passage from\\n\\nOur best performing system outperforms the top leaderboard system by +1.5 F1 in ensembling and +1.3 F1 as a single system. In fact, our single BERT model outperforms the top ensemble sys- tem in terms of F1 score. Without TriviaQA ﬁne-\\n\\n9The GLUE data set distribution does not include the Test labels, and we only made a single GLUE evaluation server submission for each of BERTBASE and BERTLARGE.\\n\\n11QANet is described in Yu et al. (2018), but the system\\n\\n10https://gluebenchmark.com/leaderboard\\n\\nhas improved substantially after publication.\\n\\nSystem\\n\\nDev\\n\\nTest\\n\\nSystem\\n\\nDev Test\\n\\nEM F1 EM F1\\n\\nESIM+GloVe ESIM+ELMo OpenAI GPT\\n\\n51.9 52.7 59.1 59.2 78.0\\n\\nTop Leaderboard Systems (Dec 10th, 2018)\\n\\nHuman #1 Ensemble - nlnet #2 Ensemble - QANet\\n\\n- -\\n\\n- -\\n\\n82.3 91.2 86.0 91.7 84.5 90.5\\n\\n\\n\\nBERTBASE BERTLARGE\\n\\n81.6 86.6 86.3\\n\\n\\n\\nPublished\\n\\nHuman (expert)† Human (5 annotations)†\\n\\n-\\n\\n85.0 88.0\\n\\nBiDAF+ELMo (Single) R.M. Reader (Ensemble)\\n\\n85.8 81.2 87.9 82.3 88.5\\n\\n\\n\\n85.6\\n\\n\\n\\nOurs\\n\\nTable 4: SWAG Dev and Test accuracies. †Human per- formance is measured with 100 samples, as reported in the SWAG paper.\\n\\nBERTBASE (Single) BERTLARGE (Single) BERTLARGE (Ensemble) BERTLARGE (Sgl.+TriviaQA) 84.2 91.1 85.1 91.8 BERTLARGE (Ens.+TriviaQA) 86.2 92.2 87.4 93.2\\n\\n80.8 88.5 84.1 90.9 85.8 91.8\\n\\n- -\\n\\n- -\\n\\nˆsi,j = maxj≥iS·Ti + E·Tj. We predict a non-null answer when ˆsi,j > snull + τ , where the thresh- old τ is selected on the dev set to maximize F1. We did not use TriviaQA data for this model. We ﬁne-tuned for 2 epochs with a learning rate of 5e-5 and a batch size of 48.\\n\\nTable 2: SQuAD 1.1 results. The BERT ensemble is 7x systems which use different pre-training check- points and ﬁne-tuning seeds.\\n\\nSystem\\n\\nDev\\n\\nTest\\n\\nEM F1 EM F1\\n\\nThe results compared to prior leaderboard en- tries and top published work (Sun et al., 2018; Wang et al., 2018b) are shown in Table 3, exclud- ing systems that use BERT as one of their com- ponents. We observe a +5.1 F1 improvement over the previous best system.\\n\\nTop Leaderboard Systems (Dec 10th, 2018)\\n\\nHuman #1 Single - MIR-MRC (F-Net) #2 Single - nlnet\\n\\n86.3 89.0 86.9 89.5 74.8 78.0 74.2 77.1\\n\\n-\\n\\n-\\n\\nPublished\\n\\nunet (Ensemble) SLQA+ (Single)\\n\\n-\\n\\n\\n\\n71.4 74.9 71.4 74.4\\n\\nOurs\\n\\n4.4 SWAG\\n\\nBERTLARGE (Single)\\n\\n78.7 81.9 80.0 83.1\\n\\nThe Situations With Adversarial Generations (SWAG) dataset contains 113k sentence-pair com- pletion examples that evaluate grounded common- sense inference (Zellers et al., 2018). Given a sen- tence, the task is to choose the most plausible con- tinuation among four choices.\\n\\nTable 3: SQuAD 2.0 results. We exclude entries that use BERT as one of their components.\\n\\ntuning data, we only lose 0.1-0.4 F1, still outper- forming all existing systems by a wide margin.12\\n\\nWhen ﬁne-tuning on the SWAG dataset, we construct four input sequences, each containing the concatenation of the given sentence (sentence A) and a possible continuation (sentence B). The only task-speciﬁc parameters introduced is a vec- tor whose dot product with the [CLS] token rep- resentation C denotes a score for each choice which is normalized with a softmax layer.\\n\\n4.3 SQuAD v2.0\\n\\nThe SQuAD 2.0 task extends the SQuAD 1.1 problem deﬁnition by allowing for the possibility that no short answer exists in the provided para- graph, making the problem more realistic.\\n\\nWe use a simple approach to extend the SQuAD v1.1 BERT model for this task. We treat ques- tions that do not have an answer as having an an- swer span with start and end at the [CLS] to- ken. The probability space for the start and end answer span positions is extended to include the position of the [CLS] token. For prediction, we compare the score of the no-answer span: snull = S·C + E·C to the score of the best non-null span\\n\\nWe ﬁne-tune the model for 3 epochs with a learning rate of 2e-5 and a batch size of 16. Re- sults are presented in Table 4. BERTLARGE out- performs the authors’ baseline ESIM+ELMo sys- tem by +27.1% and OpenAI GPT by 8.3%.\\n\\n5 Ablation Studies\\n\\nIn this section, we perform ablation experiments over a number of facets of BERT in order to better understand their relative importance. Additional\\n\\n12The TriviaQA data we used consists of paragraphs from TriviaQA-Wiki formed of the ﬁrst 400 tokens in documents, that contain at least one of the provided possible answers.\\n\\nresults are still far worse than those of the pre- trained bidirectional models. The BiLSTM hurts performance on the GLUE tasks.\\n\\nDev Set MNLI-m QNLI MRPC SST-2 SQuAD (Acc)\\n\\nTasks\\n\\n(Acc)\\n\\n(Acc)\\n\\n(Acc)\\n\\n(F1)\\n\\nBERTBASE No NSP LTR & No NSP + BiLSTM\\n\\n84.4 83.9 82.1 82.1\\n\\n88.4 84.9 84.3 84.1\\n\\n86.7 86.5 77.5 75.7\\n\\n92.7 92.6 92.1 91.6\\n\\n88.5 87.9 77.8 84.9\\n\\nWe recognize that it would also be possible to train separate LTR and RTL models and represent each token as the concatenation of the two mod- els, as ELMo does. However: (a) this is twice as expensive as a single bidirectional model; (b) this is non-intuitive for tasks like QA, since the RTL model would not be able to condition the answer on the question; (c) this it is strictly less powerful than a deep bidirectional model, since it can use both left and right context at every layer.\\n\\nTable 5: Ablation over the pre-training tasks using the BERTBASE architecture. “No NSP” is trained without the next sentence prediction task. “LTR & No NSP” is trained as a left-to-right LM without the next sentence prediction, like OpenAI GPT. “+ BiLSTM” adds a ran- domly initialized BiLSTM on top of the “LTR + No NSP” model during ﬁne-tuning.\\n\\n5.2 Effect of Model Size\\n\\nablation studies can be found in Appendix C.\\n\\nIn this section, we explore the effect of model size on ﬁne-tuning task accuracy. We trained a number of BERT models with a differing number of layers, hidden units, and attention heads, while otherwise using the same hyperparameters and training pro- cedure as described previously.\\n\\n5.1 Effect of Pre-training Tasks\\n\\nWe demonstrate the importance of the deep bidi- rectionality of BERT by evaluating two pre- training objectives using exactly the same pre- training data, ﬁne-tuning scheme, and hyperpa- rameters as BERTBASE:\\n\\nResults on selected GLUE tasks are shown in Table 6. In this table, we report the average Dev Set accuracy from 5 random restarts of ﬁne-tuning. We can see that larger models lead to a strict ac- curacy improvement across all four datasets, even for MRPC which only has 3,600 labeled train- ing examples, and is substantially different from the pre-training tasks. It is also perhaps surpris- ing that we are able to achieve such signiﬁcant improvements on top of models which are al- ready quite large relative to the existing literature. For example, the largest Transformer explored in Vaswani et al. (2017) is (L=6, H=1024, A=16) with 100M parameters for the encoder, and the largest Transformer we have found in the literature is (L=64, H=512, A=2) with 235M parameters (Al-Rfou et al., 2018). By contrast, BERTBASE contains 110M parameters and BERTLARGE con- tains 340M parameters.\\n\\nNo NSP: A bidirectional model which is trained using the “masked LM” (MLM) but without the “next sentence prediction” (NSP) task. LTR & No NSP: A left-context-only model which is trained using a standard Left-to-Right (LTR) LM, rather than an MLM. The left-only constraint was also applied at ﬁne-tuning, because removing it introduced a pre-train/ﬁne-tune mismatch that degraded downstream performance. Additionally, this model was pre-trained without the NSP task. This is directly comparable to OpenAI GPT, but using our larger training dataset, our input repre- sentation, and our ﬁne-tuning scheme.\\n\\nWe ﬁrst examine the impact brought by the NSP In Table 5, we show that removing NSP task. hurts performance signiﬁcantly on QNLI, MNLI, and SQuAD 1.1. Next, we evaluate the impact of training bidirectional representations by com- paring “No NSP” to “LTR & No NSP”. The LTR model performs worse than the MLM model on all tasks, with large drops on MRPC and SQuAD.\\n\\nIt has long been known that increasing the model size will lead to continual improvements on large-scale tasks such as machine translation and language modeling, which is demonstrated by the LM perplexity of held-out training data shown in Table 6. However, we believe that this is the ﬁrst work to demonstrate convinc- ingly that scaling to extreme model sizes also leads to large improvements on very small scale tasks, provided that the model has been sufﬁ- ciently pre-trained. Peters et al. (2018b) presented\\n\\nFor SQuAD it is intuitively clear that a LTR model will perform poorly at token predictions, since the token-level hidden states have no right- side context. In order to make a good faith at- tempt at strengthening the LTR system, we added a randomly initialized BiLSTM on top. This does signiﬁcantly improve results on SQuAD, but the\\n\\nmixed results on the downstream task impact of increasing the pre-trained bi-LM size from two to four layers and Melamud et al. (2016) men- tioned in passing that increasing hidden dimen- sion size from 200 to 600 helped, but increasing further to 1,000 did not bring further improve- ments. Both of these prior works used a feature- based approach — we hypothesize that when the model is ﬁne-tuned directly on the downstream tasks and uses only a very small number of ran- domly initialized additional parameters, the task- speciﬁc models can beneﬁt from the larger, more expressive pre-trained representations even when downstream task data is very small.\\n\\nSystem\\n\\nDev F1 Test F1\\n\\nELMo (Peters et al., 2018a) CVT (Clark et al., 2018) CSE (Akbik et al., 2018)\\n\\n95.7 - -\\n\\n92.2 92.6 93.1\\n\\nFine-tuning approach\\n\\nBERTLARGE BERTBASE\\n\\n96.6 96.4\\n\\n92.8 92.4\\n\\nFeature-based approach (BERTBASE)\\n\\nEmbeddings Second-to-Last Hidden Last Hidden Weighted Sum Last Four Hidden Concat Last Four Hidden Weighted Sum All 12 Layers\\n\\n91.0 95.6 94.9 95.9 96.1 95.5\\n\\n- - - - -\\n\\nTable 7: CoNLL-2003 Named Entity Recognition re- sults. Hyperparameters were selected using the Dev set. The reported Dev and Test scores are averaged over 5 random restarts using those hyperparameters.\\n\\n5.3 Feature-based Approach with BERT\\n\\nAll of the BERT results presented so far have used the ﬁne-tuning approach, where a simple classiﬁ- cation layer is added to the pre-trained model, and all parameters are jointly ﬁne-tuned on a down- stream task. However, the feature-based approach, where ﬁxed features are extracted from the pre- trained model, has certain advantages. First, not all tasks can be easily represented by a Trans- former encoder architecture, and therefore require a task-speciﬁc model architecture to be added. Second, there are major computational beneﬁts to pre-compute an expensive representation of the training data once and then run many experiments with cheaper models on top of this representation. In this section, we compare the two approaches by applying BERT to the CoNLL-2003 Named Entity Recognition (NER) task (Tjong Kim Sang and De Meulder, 2003). In the input to BERT, we use a case-preserving WordPiece model, and we include the maximal document context provided by the data. Following standard practice, we for- mulate this as a tagging task but do not use a CRF\\n\\nlayer in the output. We use the representation of the ﬁrst sub-token as the input to the token-level classiﬁer over the NER label set.\\n\\nTo ablate the ﬁne-tuning approach, we apply the feature-based approach by extracting the activa- tions from one or more layers without ﬁne-tuning any parameters of BERT. These contextual em- beddings are used as input to a randomly initial- ized two-layer 768-dimensional BiLSTM before the classiﬁcation layer.\\n\\nResults are presented in Table 7. BERTLARGE performs competitively with state-of-the-art meth- ods. The best performing method concatenates the token representations from the top four hidden lay- ers of the pre-trained Transformer, which is only 0.3 F1 behind ﬁne-tuning the entire model. This demonstrates that BERT is effective for both ﬁne- tuning and feature-based approaches.\\n\\n6 Conclusion\\n\\nHyperparams\\n\\nDev Set Accuracy\\n\\nRecent empirical improvements due to transfer learning with language models have demonstrated that rich, unsupervised pre-training is an integral part of many language understanding systems. In particular, these results enable even low-resource tasks to beneﬁt from deep unidirectional architec- tures. Our major contribution is further general- izing these ﬁndings to deep bidirectional architec- tures, allowing the same pre-trained model to suc- cessfully tackle a broad set of NLP tasks.\\n\\n#L\\n\\n#H #A LM (ppl) MNLI-m MRPC SST-2\\n\\n768 12 3 768 3 6 768 12 6 12 768 12 12 1024 16 24 1024 16\\n\\n5.84 5.24 4.68 3.99 3.54 3.23\\n\\n77.9 80.6 81.9 84.4 85.7 86.6\\n\\n79.8 82.2 84.8 86.7 86.9 87.8\\n\\n88.4 90.7 91.3 92.9 93.3 93.7\\n\\nTable 6: Ablation over BERT model size. #L = the number of layers; #H = hidden size; #A = number of at- tention heads. “LM (ppl)” is the masked LM perplexity of held-out training data.\\n\\nReferences\\n\\nKevin Clark, Minh-Thang Luong, Christopher D Man- Semi-supervised se- ning, and Quoc Le. 2018. quence modeling with cross-view training. In Pro- ceedings of the 2018 Conference on Empirical Meth- ods in Natural Language Processing, pages 1914– 1925.\\n\\nAlan Akbik, Duncan Blythe, and Roland Vollgraf. 2018. Contextual string embeddings for sequence In Proceedings of the 27th International labeling. Conference on Computational Linguistics, pages 1638–1649.\\n\\nRonan Collobert and Jason Weston. 2008. A uniﬁed architecture for natural language processing: Deep In Pro- neural networks with multitask learning. ceedings of the 25th international conference on Machine learning, pages 160–167. ACM.\\n\\nRami Al-Rfou, Dokook Choe, Noah Constant, Mandy Guo, and Llion Jones. 2018. Character-level lan- guage modeling with deeper self-attention. arXiv preprint arXiv:1808.04444.\\n\\nAlexis Conneau, Douwe Kiela, Holger Schwenk, Lo¨ıc Barrault, and Antoine Bordes. 2017. Supervised learning of universal sentence representations from natural language inference data. In Proceedings of the 2017 Conference on Empirical Methods in Nat- ural Language Processing, pages 670–680, Copen- hagen, Denmark. Association for Computational Linguistics.\\n\\nRie Kubota Ando and Tong Zhang. 2005. A framework for learning predictive structures from multiple tasks and unlabeled data. Journal of Machine Learning Research, 6(Nov):1817–1853.\\n\\nLuisa Bentivogli, Bernardo Magnini,\\n\\nIdo Dagan, Hoa Trang Dang, and Danilo Giampiccolo. 2009. The ﬁfth PASCAL recognizing textual entailment challenge. In TAC. NIST.\\n\\nAndrew M Dai and Quoc V Le. 2015. Semi-supervised sequence learning. In Advances in neural informa- tion processing systems, pages 3079–3087.\\n\\nJohn Blitzer, Ryan McDonald, and Fernando Pereira. 2006. Domain adaptation with structural correspon- dence learning. In Proceedings of the 2006 confer- ence on empirical methods in natural language pro- cessing, pages 120–128. Association for Computa- tional Linguistics.\\n\\nJ. Deng, W. Dong, R. Socher, L.-J. Li, K. Li, and L. Fei- ImageNet: A Large-Scale Hierarchical\\n\\nFei. 2009. Image Database. In CVPR09.\\n\\nWilliam B Dolan and Chris Brockett. 2005. Automati- cally constructing a corpus of sentential paraphrases. In Proceedings of the Third International Workshop on Paraphrasing (IWP2005).\\n\\nSamuel R. Bowman, Gabor Angeli, Christopher Potts, and Christopher D. Manning. 2015. A large anno- tated corpus for learning natural language inference. In EMNLP. Association for Computational Linguis- tics.\\n\\nWilliam Fedus, Ian Goodfellow, and Andrew M Dai. 2018. Maskgan: Better text generation via ﬁlling in the . arXiv preprint arXiv:1801.07736.\\n\\nPeter F Brown, Peter V Desouza, Robert L Mercer, Vincent J Della Pietra, and Jenifer C Lai. 1992. Class-based n-gram models of natural language. Computational linguistics, 18(4):467–479.\\n\\nDan Hendrycks and Kevin Gimpel. 2016. Bridging nonlinearities and stochastic regularizers with gaus- sian error linear units. CoRR, abs/1606.08415.\\n\\nDaniel Cer, Mona Diab, Eneko Agirre, Inigo Lopez- Gazpio, and Lucia Specia. 2017. Semeval-2017 task 1: Semantic textual similarity multilingual and In Proceedings crosslingual focused evaluation. of the 11th International Workshop on Semantic Evaluation (SemEval-2017), pages 1–14, Vancou- ver, Canada. Association for Computational Lin- guistics.\\n\\nFelix Hill, Kyunghyun Cho, and Anna Korhonen. 2016. Learning distributed representations of sentences In Proceedings of the 2016 from unlabelled data. Conference of the North American Chapter of the Association for Computational Linguistics: Human Language Technologies. Association for Computa- tional Linguistics.\\n\\nJeremy Howard and Sebastian Ruder. 2018. Universal language model ﬁne-tuning for text classiﬁcation. In ACL. Association for Computational Linguistics.\\n\\nCiprian Chelba, Tomas Mikolov, Mike Schuster, Qi Ge, Thorsten Brants, Phillipp Koehn, and Tony Robin- son. 2013. One billion word benchmark for measur- ing progress in statistical language modeling. arXiv preprint arXiv:1312.3005.\\n\\nMinghao Hu, Yuxing Peng, Zhen Huang, Xipeng Qiu, Reinforced Furu Wei, and Ming Zhou. 2018. mnemonic reader for machine reading comprehen- sion. In IJCAI.\\n\\nZ. Chen, H. Zhang, X. Zhang, and L. Zhao. 2018.\\n\\nQuora question pairs.\\n\\nYacine Jernite, Samuel R. Bowman, and David Son- tag. 2017. Discourse-based objectives for fast un- supervised sentence representation learning. CoRR, abs/1705.00557.\\n\\nChristopher Clark and Matt Gardner. 2018. Simple and effective multi-paragraph reading comprehen- sion. In ACL.\\n\\nMatthew Peters, Mark Neumann, Luke Zettlemoyer, and Wen-tau Yih. 2018b. Dissecting contextual word embeddings: Architecture and representation. In Proceedings of the 2018 Conference on Empiri- cal Methods in Natural Language Processing, pages 1499–1509.\\n\\nMandar Joshi, Eunsol Choi, Daniel S Weld, and Luke Zettlemoyer. 2017. Triviaqa: A large scale distantly supervised challenge dataset for reading comprehen- sion. In ACL.\\n\\nRyan Kiros, Yukun Zhu, Ruslan R Salakhutdinov, Richard Zemel, Raquel Urtasun, Antonio Torralba, and Sanja Fidler. 2015. Skip-thought vectors. In Advances in neural information processing systems, pages 3294–3302.\\n\\nAlec Radford, Karthik Narasimhan, Tim Salimans, and Ilya Sutskever. 2018. Improving language under- standing with unsupervised learning. Technical re- port, OpenAI.\\n\\nQuoc Le and Tomas Mikolov. 2014. Distributed rep- resentations of sentences and documents. In Inter- national Conference on Machine Learning, pages 1188–1196.\\n\\nPranav Rajpurkar, Jian Zhang, Konstantin Lopyrev, and Percy Liang. 2016. Squad: 100,000+ questions for machine comprehension of text. In Proceedings of the 2016 Conference on Empirical Methods in Nat- ural Language Processing, pages 2383–2392.\\n\\nHector J Levesque, Ernest Davis, and Leora Morgen- stern. 2011. The winograd schema challenge. In Aaai spring symposium: Logical formalizations of commonsense reasoning, volume 46, page 47.\\n\\nMinjoon Seo, Aniruddha Kembhavi, Ali Farhadi, and Hannaneh Hajishirzi. 2017. Bidirectional attention ﬂow for machine comprehension. In ICLR.\\n\\nLajanugen Logeswaran and Honglak Lee. 2018. An efﬁcient framework for learning sentence represen- In International Conference on Learning tations. Representations.\\n\\nRichard Socher, Alex Perelygin, Jean Wu, Jason Chuang, Christopher D Manning, Andrew Ng, and Christopher Potts. 2013. Recursive deep models for semantic compositionality over a sentiment tree- In Proceedings of the 2013 conference on bank. empirical methods in natural language processing, pages 1631–1642.\\n\\nBryan McCann, James Bradbury, Caiming Xiong, and Richard Socher. 2017. Learned in translation: Con- textualized word vectors. In NIPS.\\n\\nOren Melamud, Jacob Goldberger, and Ido Dagan. 2016. context2vec: Learning generic context em- bedding with bidirectional LSTM. In CoNLL.\\n\\nFu Sun, Linyang Li, Xipeng Qiu, and Yang Liu. 2018. U-net: Machine reading comprehension arXiv preprint with unanswerable questions. arXiv:1810.06638.\\n\\nTomas Mikolov, Ilya Sutskever, Kai Chen, Greg S Cor- rado, and Jeff Dean. 2013. Distributed representa- tions of words and phrases and their compositional- ity. In Advances in Neural Information Processing Systems 26, pages 3111–3119. Curran Associates, Inc.\\n\\nWilson L Taylor. 1953. Cloze procedure: A new tool for measuring readability. Journalism Bulletin, 30(4):415–433.\\n\\nErik F Tjong Kim Sang and Fien De Meulder. 2003. Introduction to the conll-2003 shared task: Language-independent named entity recognition. In CoNLL.\\n\\nAndriy Mnih and Geoffrey E Hinton. 2009. A scal- able hierarchical distributed language model. In D. Koller, D. Schuurmans, Y. Bengio, and L. Bot- tou, editors, Advances in Neural Information Pro- cessing Systems 21, pages 1081–1088. Curran As- sociates, Inc.\\n\\nJoseph Turian, Lev Ratinov, and Yoshua Bengio. 2010. Word representations: A simple and general method for semi-supervised learning. In Proceedings of the 48th Annual Meeting of the Association for Compu- tational Linguistics, ACL ’10, pages 384–394.\\n\\nAnkur P Parikh, Oscar T¨ackstr¨om, Dipanjan Das, and Jakob Uszkoreit. 2016. A decomposable attention model for natural language inference. In EMNLP.\\n\\nAshish Vaswani, Noam Shazeer, Niki Parmar, Jakob Uszkoreit, Llion Jones, Aidan N Gomez, Lukasz Kaiser, and Illia Polosukhin. 2017. Attention is all you need. In Advances in Neural Information Pro- cessing Systems, pages 6000–6010.\\n\\nJeffrey Pennington, Richard Socher, and Christo- pher D. Manning. 2014. Glove: Global vectors for word representation. In Empirical Methods in Nat- ural Language Processing (EMNLP), pages 1532– 1543.\\n\\nPascal Vincent, Hugo Larochelle, Yoshua Bengio, and Pierre-Antoine Manzagol. 2008. Extracting and composing robust features with denoising autoen- In Proceedings of the 25th international coders. conference on Machine learning, pages 1096–1103. ACM.\\n\\nMatthew Peters, Waleed Ammar, Chandra Bhagavat- ula, and Russell Power. 2017. Semi-supervised se- quence tagging with bidirectional language models. In ACL.\\n\\nMatthew Peters, Mark Neumann, Mohit Iyyer, Matt Gardner, Christopher Clark, Kenton Lee, and Luke Zettlemoyer. 2018a. Deep contextualized word rep- resentations. In NAACL.\\n\\nAlex Wang, Amanpreet Singh, Julian Michael, Fe- lix Hill, Omer Levy, and Samuel Bowman. 2018a. Glue: A multi-task benchmark and analysis platform\\n\\nAdditional details for our experiments are\\n\\nfor natural language understanding. In Proceedings of the 2018 EMNLP Workshop BlackboxNLP: An- alyzing and Interpreting Neural Networks for NLP, pages 353–355.\\n\\npresented in Appendix B; and\\n\\nAdditional ablation studies are presented in\\n\\nAppendix C.\\n\\nWei Wang, Ming Yan, and Chen Wu. 2018b. Multi- granularity hierarchical attention fusion networks for reading comprehension and question answering. In Proceedings of the 56th Annual Meeting of the As- sociation for Computational Linguistics (Volume 1: Long Papers). Association for Computational Lin- guistics.\\n\\nWe present additional ablation studies for BERT including:\\n\\n– Effect of Number of Training Steps; and – Ablation for Different Masking Proce-\\n\\ndures.\\n\\nAlex Warstadt, Amanpreet Singh, and Samuel R Bow- man. 2018. Neural network acceptability judg- ments. arXiv preprint arXiv:1805.12471.\\n\\nA Additional Details for BERT\\n\\nA.1\\n\\nIllustration of the Pre-training Tasks\\n\\nAdina Williams, Nikita Nangia, and Samuel R Bow- man. 2018. A broad-coverage challenge corpus In for sentence understanding through inference. NAACL.\\n\\nWe provide examples of the pre-training tasks in the following.\\n\\nMasked LM and the Masking Procedure As- suming the unlabeled sentence is my dog is hairy, and during the random masking procedure we chose the 4-th token (which corresponding to hairy), our masking procedure can be further il- lustrated by\\n\\nYonghui Wu, Mike Schuster, Zhifeng Chen, Quoc V Le, Mohammad Norouzi, Wolfgang Macherey, Maxim Krikun, Yuan Cao, Qin Gao, Klaus Macherey, et al. 2016. Google’s neural ma- chine translation system: Bridging the gap between arXiv preprint human and machine translation. arXiv:1609.08144.\\n\\n80% of the time: Replace the word with the [MASK] token, e.g., my dog is hairy → my dog is [MASK]\\n\\nJason Yosinski, Jeff Clune, Yoshua Bengio, and Hod Lipson. 2014. How transferable are features in deep neural networks? In Advances in neural information processing systems, pages 3320–3328.\\n\\n10% of the time: Replace the word with a random word, e.g., my dog is hairy → my dog is apple\\n\\nAdams Wei Yu, David Dohan, Minh-Thang Luong, Rui Zhao, Kai Chen, Mohammad Norouzi, and Quoc V Le. 2018. QANet: Combining local convolution with global self-attention for reading comprehen- sion. In ICLR.\\n\\n10% of\\n\\nthe time: Keep the word un- changed, e.g., my dog is hairy → my dog is hairy. The purpose of this is to bias the representation towards the actual observed word.\\n\\nRowan Zellers, Yonatan Bisk, Roy Schwartz, and Yejin Choi. 2018. Swag: A large-scale adversarial dataset for grounded commonsense inference. In Proceed- ings of the 2018 Conference on Empirical Methods in Natural Language Processing (EMNLP).\\n\\nThe advantage of this procedure is that the Transformer encoder does not know which words it will be asked to predict or which have been re- placed by random words, so it is forced to keep a distributional contextual representation of ev- ery input token. Additionally, because random replacement only occurs for 1.5% of all tokens (i.e., 10% of 15%), this does not seem to harm the model’s language understanding capability. In Section C.2, we evaluate the impact this proce- dure.\\n\\nYukun Zhu, Ryan Kiros, Rich Zemel, Ruslan Salakhut- dinov, Raquel Urtasun, Antonio Torralba, and Sanja Fidler. 2015. Aligning books and movies: Towards story-like visual explanations by watching movies In Proceedings of the IEEE and reading books. international conference on computer vision, pages 19–27.\\n\\nAppendix for “BERT: Pre-training of Deep Bidirectional Transformers for Language Understanding”\\n\\nCompared to standard langauge model training, the masked LM only make predictions on 15% of tokens in each batch, which suggests that more pre-training steps may be required for the model\\n\\nWe organize the appendix into three sections:\\n\\nAdditional implementation details for BERT\\n\\nare presented in Appendix A;\\n\\nT2\\n\\nT2\\n\\nT2\\n\\nT1\\n\\nT1\\n\\nT1\\n\\nE1\\n\\nE1\\n\\nE1\\n\\nTrm\\n\\nTrm\\n\\nTrm\\n\\nTrm\\n\\nTrm\\n\\nTrm\\n\\nTrm\\n\\nTrm\\n\\nTrm\\n\\nTrm\\n\\nTrm\\n\\nTrm\\n\\nTN\\n\\nTN\\n\\nTN\\n\\nOpenAI GPT\\n\\nEN\\n\\nEN\\n\\nEN\\n\\nLstm\\n\\nLstm\\n\\nLstm\\n\\nLstm\\n\\nLstm\\n\\nLstm\\n\\nLstm\\n\\nLstm\\n\\nLstm\\n\\nLstm\\n\\nLstm\\n\\nLstm\\n\\nE2\\n\\nE2\\n\\nE2\\n\\n...\\n\\n...\\n\\n...\\n\\n...\\n\\n...\\n\\n...\\n\\n...\\n\\n...\\n\\n...\\n\\n...\\n\\n...\\n\\n...\\n\\n...\\n\\n...\\n\\nELMo\\n\\nBERT (Ours)\\n\\nFigure 3: Differences in pre-training model architectures. BERT uses a bidirectional Transformer. OpenAI GPT uses a left-to-right Transformer. ELMo uses the concatenation of independently trained left-to-right and right-to- left LSTMs to generate features for downstream tasks. Among the three, only BERT representations are jointly conditioned on both left and right context in all layers. In addition to the architecture differences, BERT and OpenAI GPT are ﬁne-tuning approaches, while ELMo is a feature-based approach.\\n\\nto converge. In Section C.1 we demonstrate that MLM does converge marginally slower than a left- to-right model (which predicts every token), but the empirical improvements of the MLM model far outweigh the increased training cost.\\n\\nepochs over the 3.3 billion word corpus. We use Adam with learning rate of 1e-4, β1 = 0.9, β2 = 0.999, L2 weight decay of 0.01, learning rate warmup over the ﬁrst 10,000 steps, and linear decay of the learning rate. We use a dropout prob- ability of 0.1 on all layers. We use a gelu acti- vation (Hendrycks and Gimpel, 2016) rather than the standard relu, following OpenAI GPT. The training loss is the sum of the mean masked LM likelihood and the mean next sentence prediction likelihood.\\n\\nNext Sentence Prediction The next sentence prediction task can be illustrated in the following examples.\\n\\nInput = [CLS] the man went to [MASK] store [SEP]\\n\\nhe bought a gallon [MASK] milk [SEP]\\n\\nTraining of BERTBASE was performed on 4 Cloud TPUs in Pod conﬁguration (16 TPU chips total).13 Training of BERTLARGE was performed on 16 Cloud TPUs (64 TPU chips total). Each pre- training took 4 days to complete.\\n\\nLabel = IsNext\\n\\nInput = [CLS] the man [MASK] to the store [SEP]\\n\\npenguin [MASK] are flight ##less birds [SEP]\\n\\nLonger sequences are disproportionately expen- sive because attention is quadratic to the sequence length. To speed up pretraing in our experiments, we pre-train the model with sequence length of 128 for 90% of the steps. Then, we train the rest 10% of the steps of sequence of 512 to learn the positional embeddings.\\n\\nLabel = NotNext\\n\\nA.2 Pre-training Procedure\\n\\nTo generate each training input sequence, we sam- ple two spans of text from the corpus, which we refer to as “sentences” even though they are typ- ically much longer than single sentences (but can be shorter also). The ﬁrst sentence receives the A embedding and the second receives the B embed- ding. 50% of the time B is the actual next sentence that follows A and 50% of the time it is a random sentence, which is done for the “next sentence pre- diction” task. They are sampled such that the com- bined length is ≤ 512 tokens. The LM masking is applied after WordPiece tokenization with a uni- form masking rate of 15%, and no special consid- eration given to partial word pieces.\\n\\nA.3 Fine-tuning Procedure\\n\\nFor ﬁne-tuning, most model hyperparameters are the same as in pre-training, with the exception of the batch size, learning rate, and number of train- ing epochs. The dropout probability was always kept at 0.1. The optimal hyperparameter values are task-speciﬁc, but we found the following range of possible values to work well across all tasks:\\n\\nBatch size: 16, 32\\n\\nWe train with batch size of 256 sequences (256 sequences * 512 tokens = 128,000 tokens/batch) for 1,000,000 steps, which is approximately 40\\n\\n13https://cloudplatform.googleblog.com/2018/06/Cloud-\\n\\nTPU-now-offers-preemptible-pricing-and-global- availability.html\\n\\nLearning rate (Adam): 5e-5, 3e-5, 2e-5 • Number of epochs: 2, 3, 4\\n\\nTo isolate the effect of these differences, we per- form ablation experiments in Section 5.1 which demonstrate that the majority of the improvements are in fact coming from the two pre-training tasks and the bidirectionality they enable.\\n\\nWe also observed that large data sets (e.g., 100k+ labeled training examples) were far less sensitive to hyperparameter choice than small data sets. Fine-tuning is typically very fast, so it is rea- sonable to simply run an exhaustive search over the above parameters and choose the model that performs best on the development set.\\n\\nA.5\\n\\nIllustrations of Fine-tuning on Different Tasks\\n\\nThe illustration of ﬁne-tuning BERT on different tasks can be seen in Figure 4. Our task-speciﬁc models are formed by incorporating BERT with one additional output layer, so a minimal num- ber of parameters need to be learned from scratch. Among the tasks, (a) and (b) are sequence-level tasks while (c) and (d) are token-level tasks. In the ﬁgure, E represents the input embedding, Ti represents the contextual representation of token i, [CLS] is the special symbol for classiﬁcation out- put, and [SEP] is the special symbol to separate non-consecutive token sequences.\\n\\nA.4 Comparison of BERT, ELMo ,and\\n\\nOpenAI GPT\\n\\nHere we studies the differences in recent popular representation learning models including ELMo, OpenAI GPT and BERT. The comparisons be- tween the model architectures are shown visually in Figure 3. Note that in addition to the architec- ture differences, BERT and OpenAI GPT are ﬁne- tuning approaches, while ELMo is a feature-based approach.\\n\\nB Detailed Experimental Setup\\n\\nThe most comparable existing pre-training method to BERT is OpenAI GPT, which trains a left-to-right Transformer LM on a large text cor- pus. In fact, many of the design decisions in BERT were intentionally made to make it as close to GPT as possible so that the two methods could be minimally compared. The core argument of this work is that the bi-directionality and the two pre- training tasks presented in Section 3.1 account for the majority of the empirical improvements, but we do note that there are several other differences between how BERT and GPT were trained:\\n\\nB.1 Detailed Descriptions for the GLUE\\n\\nBenchmark Experiments.\\n\\nOur GLUE results in Table1 are obtained https://gluebenchmark.com/ from leaderboard https://blog. and openai.com/language-unsupervised. The GLUE benchmark includes the following datasets, the descriptions of which were originally summarized in Wang et al. (2018a):\\n\\nMNLI Multi-Genre Natural Language Inference is a large-scale, crowdsourced entailment classiﬁ- cation task (Williams et al., 2018). Given a pair of sentences, the goal is to predict whether the sec- ond sentence is an entailment, contradiction, or neutral with respect to the ﬁrst one.\\n\\nGPT is trained on the BooksCorpus (800M words); BERT is trained on the BooksCor- pus (800M words) and Wikipedia (2,500M words).\\n\\nGPT uses a sentence separator ([SEP]) and classiﬁer token ([CLS]) which are only in- troduced at ﬁne-tuning time; BERT learns [SEP], [CLS] and sentence A/B embed- dings during pre-training.\\n\\nQQP Quora Question Pairs is a binary classiﬁ- cation task where the goal is to determine if two questions asked on Quora are semantically equiv- alent (Chen et al., 2018).\\n\\nQNLI Question Natural Language Inference is a version of the Stanford Question Answering Dataset (Rajpurkar et al., 2016) which has been converted to a binary classiﬁcation task (Wang et al., 2018a). The positive examples are (ques- tion, sentence) pairs which do contain the correct answer, and the negative examples are (question, sentence) from the same paragraph which do not contain the answer.\\n\\nGPT was trained for 1M steps with a batch size of 32,000 words; BERT was trained for 1M steps with a batch size of 128,000 words.\\n\\nGPT used the same learning rate of 5e-5 for all ﬁne-tuning experiments; BERT chooses a task-speciﬁc ﬁne-tuning learning rate which performs the best on the development set.\\n\\nSentence 2\\n\\nT2\\n\\nT2\\n\\nE[SEP]\\n\\nE[SEP]\\n\\nT[SEP]\\n\\nT[SEP]\\n\\nT1\\n\\nT1\\n\\nT1\\n\\nT1\\n\\nSingle Sentence\\n\\nSingle Sentence\\n\\nE1\\n\\nE1\\n\\nE1\\n\\nE1\\n\\nQuestion\\n\\nClass Label\\n\\nClass Label\\n\\nTok 1\\n\\nTok 1\\n\\nTok 1\\n\\nTok 1\\n\\nTok 1\\n\\nTok 1\\n\\nTok 1\\n\\nTN\\n\\nTN\\n\\nTN\\n\\nTN\\n\\nTM’\\n\\nTM’\\n\\nB-PER\\n\\nEN\\n\\nEN\\n\\nEN\\n\\nEN\\n\\nC\\n\\nC\\n\\nC\\n\\nC\\n\\nE2\\n\\nE2\\n\\nE1’\\n\\nE1’\\n\\nSentence 1\\n\\nEM’\\n\\nEM’\\n\\nTok 2\\n\\nTok 2\\n\\n...\\n\\n...\\n\\n...\\n\\n...\\n\\n...\\n\\n...\\n\\n...\\n\\n...\\n\\n...\\n\\n...\\n\\n...\\n\\n...\\n\\n...\\n\\n...\\n\\n...\\n\\n...\\n\\n...\\n\\n...\\n\\n...\\n\\n[CLS]\\n\\n[CLS]\\n\\n[CLS]\\n\\n[CLS]\\n\\n[CLS]\\n\\nTok N\\n\\nTok N\\n\\nTok N\\n\\nTok N\\n\\nParagraph\\n\\nO\\n\\nO\\n\\nStart/End Span\\n\\nTokM\\n\\nTokM\\n\\nE[CLS]\\n\\nE[CLS]\\n\\nE[CLS]\\n\\nE[CLS]\\n\\n[SEP]\\n\\n[SEP]\\n\\nT1’\\n\\nT1’\\n\\nBERT\\n\\nBERT\\n\\nBERT\\n\\nBERT\\n\\nFigure 4: Illustrations of Fine-tuning BERT on Different Tasks.\\n\\nSST-2 The Stanford Sentiment Treebank is a binary single-sentence classiﬁcation task consist- ing of sentences extracted from movie reviews with human annotations of their sentiment (Socher et al., 2013).\\n\\nfor whether the sentences in the pair are semanti- cally equivalent (Dolan and Brockett, 2005).\\n\\nRTE Recognizing Textual Entailment is a bi- nary entailment task similar to MNLI, but with much less training data (Bentivogli et al., 2009).14\\n\\nCoLA The Corpus of Linguistic Acceptability is a binary single-sentence classiﬁcation task, where the goal is to predict whether an English sentence is linguistically “acceptable” or not (Warstadt et al., 2018).\\n\\nWNLI Winograd NLI is a small natural lan- guage inference dataset (Levesque et al., 2011). The GLUE webpage notes that there are issues with the construction of this dataset, 15 and every trained system that’s been submitted to GLUE has performed worse than the 65.1 baseline accuracy of predicting the majority class. We therefore ex- clude this set to be fair to OpenAI GPT. For our GLUE submission, we always predicted the ma-\\n\\nSTS-B The Semantic Textual Similarity Bench- mark is a collection of sentence pairs drawn from news headlines and other sources (Cer et al., 2017). They were annotated with a score from 1 to 5 denoting how similar the two sentences are in terms of semantic meaning.\\n\\n14Note that we only report single-task ﬁne-tuning results in this paper. A multitask ﬁne-tuning approach could poten- tially push the performance even further. For example, we did observe substantial improvements on RTE from multi- task training with MNLI.\\n\\nMRPC Microsoft Research Paraphrase Corpus consists of sentence pairs automatically extracted from online news sources, with human annotations\\n\\n15https://gluebenchmark.com/faq\\n\\njority class.\\n\\nNote that the purpose of the masking strategies is to reduce the mismatch between pre-training and ﬁne-tuning, as the [MASK] symbol never ap- pears during the ﬁne-tuning stage. We report the Dev results for both MNLI and NER. For NER, we report both ﬁne-tuning and feature-based ap- proaches, as we expect the mismatch will be am- pliﬁed for the feature-based approach as the model will not have the chance to adjust the representa- tions.\\n\\nC Additional Ablation Studies\\n\\nC.1 Effect of Number of Training Steps\\n\\nFigure 5 presents MNLI Dev accuracy after ﬁne- tuning from a checkpoint that has been pre-trained for k steps. This allows us to answer the following questions:\\n\\n1. Question: Does BERT really need such a large amount of pre-training (128,000 words/batch * 1,000,000 steps) to achieve high ﬁne-tuning accuracy? Answer: Yes, BERTBASE achieves almost 1.0% additional accuracy on MNLI when trained on 1M steps compared to 500k steps.\\n\\nMasking Rates\\n\\nDev Set Results\\n\\nMASK SAME RND MNLI\\n\\nNER\\n\\nFine-tune Fine-tune Feature-based\\n\\n80% 10% 10% 0% 0% 100% 0% 20% 80% 80% 20% 0% 0% 20% 80% 0% 100% 0%\\n\\n84.2 84.3 84.1 84.4 83.7 83.6\\n\\n95.4 94.9 95.2 95.2 94.8 94.9\\n\\n94.9 94.0 94.6 94.7 94.6 94.6\\n\\n2. Question: Does MLM pre-training converge slower than LTR pre-training, since only 15% of words are predicted in each batch rather than every word? Answer: The MLM model does converge slightly slower than the LTR model. How- ever, in terms of absolute accuracy the MLM model begins to outperform the LTR model almost immediately.\\n\\nTable 8: Ablation over different masking strategies.\\n\\nThe results are presented in Table 8. In the table, MASK means that we replace the target token with the [MASK] symbol for MLM; SAME means that we keep the target token as is; RND means that we replace the target token with another random token.\\n\\nC.2 Ablation for Different Masking\\n\\nThe numbers in the left part of the table repre- sent the probabilities of the speciﬁc strategies used during MLM pre-training (BERT uses 80%, 10%, 10%). The right part of the paper represents the Dev set results. For the feature-based approach, we concatenate the last 4 layers of BERT as the features, which was shown to be the best approach in Section 5.3.\\n\\nProcedures\\n\\nIn Section 3.1, we mention that BERT uses a mixed strategy for masking the target tokens when pre-training with the masked language model (MLM) objective. The following is an ablation study to evaluate the effect of different masking strategies.\\n\\nFrom the table it can be seen that ﬁne-tuning is surprisingly robust to different masking strategies. However, as expected, using only the MASK strat- egy was problematic when applying the feature- based approach to NER. Interestingly, using only the RND strategy performs much worse than our strategy as well.\\n\\n84\\n\\ny c a r u c c A v e D\\n\\n82\\n\\n80\\n\\nI L N M\\n\\n78\\n\\nBERTBASE (Masked LM) BERTBASE (Left-to-Right)\\n\\n76\\n\\n200\\n\\n400\\n\\n600\\n\\n800\\n\\n1,000\\n\\nPre-training Steps (Thousands)\\n\\nFigure 5: Ablation over number of training steps. This shows the MNLI accuracy after ﬁne-tuning, starting from model parameters that have been pre-trained for k steps. The x-axis is the value of k.'"
      ]
     },
     "execution_count": 36,
     "metadata": {},
     "output_type": "execute_result"
    }
   ],
   "source": [
    "research_paper_content"
   ]
  },
  {
   "cell_type": "code",
   "execution_count": 40,
   "id": "47c8c940",
   "metadata": {},
   "outputs": [
    {
     "name": "stdout",
     "output_type": "stream",
     "text": [
      "First 400 Characters of the Paper: \n",
      "BERT: Pre-training of Deep Bidirectional Transformers for Language Understanding\n",
      "\n",
      "Jacob Devlin Ming-Wei Chang Kenton Lee Kristina Toutanova Google AI Language {jacobdevlin,mingweichang,kentonl,kristout}@google.com\n",
      "\n",
      "Abstract\n",
      "\n",
      "There are two existing strategies for apply- ing pre-trained language representations to down- stream tasks: feature-based and ﬁne-tuning. The feature-based approach, such as ...\n",
      "---------------\n",
      "First 400 Characters of Article Information Document :\n",
      " 9 CONVERSATIONAL TRICKS TO MAKE PEOPLE THINK YOU ARE COOL AND SARUMAN\n",
      "\n",
      "INSTEAD OF SAYING THIS}\n",
      "\n",
      "\n",
      "\n",
      "»{sA...\")\n",
      "\n"
     ]
    }
   ],
   "source": [
    "nb_characters = 400\n",
    "\n",
    "print(f\"First {nb_characters} Characters of the Paper: \\n{research_paper_content[:nb_characters]}...\")\n",
    "print(\"---\"*5)\n",
    "print(f\"First {nb_characters} Characters of Article Information Document :\\n {article_information_content[:nb_characters]}...\\\")\\n\")"
   ]
  },
  {
   "cell_type": "markdown",
   "id": "054b441d",
   "metadata": {},
   "source": [
    "### Chat Implementation\n",
    "- Create Chunks"
   ]
  },
  {
   "cell_type": "code",
   "execution_count": 41,
   "id": "4292871c",
   "metadata": {},
   "outputs": [],
   "source": [
    "from langchain.text_splitter import CharacterTextSplitter\n",
    "\n",
    "text_splitter = CharacterTextSplitter(        \n",
    "    separator = \"\\n\\n\",\n",
    "    chunk_size = 1000,\n",
    "    chunk_overlap  = 200,\n",
    "    length_function = len,\n",
    ")"
   ]
  },
  {
   "cell_type": "code",
   "execution_count": 42,
   "id": "c298e2d8",
   "metadata": {},
   "outputs": [
    {
     "name": "stderr",
     "output_type": "stream",
     "text": [
      "Created a chunk of size 1039, which is longer than the specified 1000\n",
      "Created a chunk of size 1064, which is longer than the specified 1000\n"
     ]
    },
    {
     "name": "stdout",
     "output_type": "stream",
     "text": [
      "# Chunks in Research Paper: 83\n",
      "# Chunks in Article Document: 1\n"
     ]
    }
   ],
   "source": [
    "research_paper_chunks = text_splitter.split_text(research_paper_content)\n",
    "article_information_chunks = text_splitter.split_text(article_information_content)\n",
    "\n",
    "print(f\"# Chunks in Research Paper: {len(research_paper_chunks)}\")\n",
    "print(f\"# Chunks in Article Document: {len(article_information_chunks)}\")"
   ]
  },
  {
   "cell_type": "markdown",
   "id": "01a5afc7",
   "metadata": {},
   "source": [
    "### Create Embeddings"
   ]
  },
  {
   "cell_type": "code",
   "execution_count": 46,
   "id": "e3036f79",
   "metadata": {},
   "outputs": [],
   "source": [
    "from langchain.embeddings.openai import OpenAIEmbeddings\n",
    "import os\n",
    "\n",
    "os.environ[\"OPENAI_API_KEY\"] = \"<YOUR KEY>\"\n",
    "\n",
    "embeddings = OpenAIEmbeddings()"
   ]
  },
  {
   "cell_type": "markdown",
   "id": "7f4b7e0f",
   "metadata": {},
   "source": [
    "### Create Vector Index"
   ]
  },
  {
   "cell_type": "code",
   "execution_count": 47,
   "id": "3ff18757",
   "metadata": {},
   "outputs": [],
   "source": [
    "from langchain.vectorstores import FAISS\n",
    "\n",
    "def get_doc_search(text_splitter):\n",
    "    \n",
    "    return FAISS.from_texts(text_splitter, embeddings)"
   ]
  },
  {
   "cell_type": "code",
   "execution_count": 48,
   "id": "898d019c",
   "metadata": {},
   "outputs": [
    {
     "name": "stdout",
     "output_type": "stream",
     "text": [
      "<langchain.vectorstores.faiss.FAISS object at 0x000001745615BEE0>\n"
     ]
    }
   ],
   "source": [
    "doc_search_paper = get_doc_search(research_paper_chunks)\n",
    "print(doc_search_paper)"
   ]
  },
  {
   "cell_type": "markdown",
   "id": "b7adc367",
   "metadata": {},
   "source": [
    "### Start chatting with your document"
   ]
  },
  {
   "cell_type": "code",
   "execution_count": 49,
   "id": "7ec8f600",
   "metadata": {},
   "outputs": [],
   "source": [
    "from langchain.llms import OpenAI\n",
    "from langchain.chains.question_answering import load_qa_chain\n",
    "chain = load_qa_chain(OpenAI(), chain_type = \"map_rerank\",  \n",
    "                      return_intermediate_steps=True)\n",
    "\n",
    "def chat_with_file(file_path, query):\n",
    "    \n",
    "    file_content = extract_file_content(file_path)\n",
    "    file_splitter = text_splitter.split_text(file_content)\n",
    "    \n",
    "    document_search = get_doc_search(file_splitter)\n",
    "    documents = document_search.similarity_search(query)\n",
    "    \n",
    "    results = chain({\n",
    "                        \"input_documents\":documents, \n",
    "                        \"question\": query\n",
    "                    }, \n",
    "                    return_only_outputs=True)\n",
    "    results = results['intermediate_steps'][0]\n",
    "    \n",
    "    return results"
   ]
  },
  {
   "cell_type": "markdown",
   "id": "01ea9649",
   "metadata": {},
   "source": [
    "### Chat with your image file"
   ]
  },
  {
   "cell_type": "code",
   "execution_count": 50,
   "id": "c8c98b53",
   "metadata": {},
   "outputs": [
    {
     "name": "stdout",
     "output_type": "stream",
     "text": [
      "Answer:  The document is about 9 conversational tricks to make people think you are cool and Saruman.\n",
      "\n",
      "Confidence Score: 100\n"
     ]
    }
   ],
   "source": [
    "query = \"What is the document about\"\n",
    "\n",
    "results = chat_with_file(article_information_path, query)\n",
    "\n",
    "answer = results[\"answer\"]\n",
    "confidence_score = results[\"score\"]\n",
    "\n",
    "print(f\"Answer: {answer}\\n\\nConfidence Score: {confidence_score}\")"
   ]
  },
  {
   "cell_type": "markdown",
   "id": "4598214e",
   "metadata": {},
   "source": [
    "### Chat with your PDF File"
   ]
  },
  {
   "cell_type": "code",
   "execution_count": 52,
   "id": "4376ace2",
   "metadata": {},
   "outputs": [
    {
     "name": "stderr",
     "output_type": "stream",
     "text": [
      "Created a chunk of size 1039, which is longer than the specified 1000\n",
      "Created a chunk of size 1064, which is longer than the specified 1000\n"
     ]
    },
    {
     "name": "stdout",
     "output_type": "stream",
     "text": [
      "Answer:  The paper is about BERT, a conceptually simple yet empirically powerful model which obtains new state-of-the-art results on eleven natural language processing tasks.\n",
      "\n",
      "Confidence Score: 90\n"
     ]
    }
   ],
   "source": [
    "query = \"Why is the paper about?\"\n",
    "\n",
    "results = chat_with_file(research_paper_path, query)\n",
    "\n",
    "answer = results[\"answer\"]\n",
    "confidence_score = results[\"score\"]\n",
    "\n",
    "print(f\"Answer: {answer}\\n\\nConfidence Score: {confidence_score}\")"
   ]
  },
  {
   "cell_type": "code",
   "execution_count": null,
   "id": "51027e76",
   "metadata": {},
   "outputs": [],
   "source": []
  }
 ],
 "metadata": {
  "kernelspec": {
   "display_name": "Python 3 (ipykernel)",
   "language": "python",
   "name": "python3"
  },
  "language_info": {
   "codemirror_mode": {
    "name": "ipython",
    "version": 3
   },
   "file_extension": ".py",
   "mimetype": "text/x-python",
   "name": "python",
   "nbconvert_exporter": "python",
   "pygments_lexer": "ipython3",
   "version": "3.10.9"
  }
 },
 "nbformat": 4,
 "nbformat_minor": 5
}
